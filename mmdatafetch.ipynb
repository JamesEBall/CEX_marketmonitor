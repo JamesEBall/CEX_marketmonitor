{
 "cells": [
  {
   "cell_type": "code",
   "execution_count": 1,
   "metadata": {},
   "outputs": [],
   "source": [
    "from open_crypto import runner\n",
    "import sqlite3 \n",
    "import pandas as pd\n",
    "import datetime\n",
    "\n",
    "\n",
    "#create database\n",
    "depth_db = pd.DataFrame(columns=['exchange', 'mid price', 'spread', 'depth 50 bps','depth 50 USD', 'depth 100 bps','depth 100 USD', 'depth 150 bps','depth 150 USD','depth 200 bps','depth 200 USD', 'time'])"
   ]
  },
  {
   "cell_type": "code",
   "execution_count": 2,
   "metadata": {},
   "outputs": [],
   "source": [
    "def calculate_depth(database, exchange, range): #depths are calculated in BPS\n",
    "    range = range / 100 #convert to kBPS (1000BPS = 1KBPS)\n",
    "    #get midprice of the last range of trades\n",
    "    price = prices.loc[prices['exchange'] == exchange, 'price'].item()\n",
    "\n",
    "    #calculate depth boundaries\n",
    "    depth_asks = price * (1 + range)\n",
    "    depth_bids = price - (price * range)\n",
    "\n",
    "    #get trades within the depth boundaries\n",
    "    trades = database.loc[(database['bids_price'] > depth_bids) & (database['asks_price'] < depth_asks)]\n",
    "    trades = trades.assign(**{'price': trades['bids_price'].fillna(trades['asks_price'])})\n",
    "    \n",
    "\n",
    "    #calculate depth\n",
    "    depth = trades['price'].std()\n",
    "\n",
    "    return depth\n",
    "\n",
    "def calculate_spread(database, exchange):\n",
    "    #get midprice of the last range of trades\n",
    "    bidmaxprice = database.loc[database['exchange'] == exchange, 'bids_price'].max()\n",
    "    askminprice = database.loc[database['exchange'] == exchange, 'asks_price'].min()\n",
    "\n",
    "    #calculate spread\n",
    "    spread = bidmaxprice - askminprice\n",
    "\n",
    "    return spread\n",
    "\n",
    "def fetch_data():\n",
    "    for exchange in orderbook['exchange'].unique():\n",
    "        depth_val_50 = calculate_depth(orderbook, exchange, 50)\n",
    "        depth_val_100 = calculate_depth(orderbook, exchange, 100)\n",
    "        depth_val_150 = calculate_depth(orderbook, exchange, 150)\n",
    "        depth_val_200 = calculate_depth(orderbook, exchange, 200)\n",
    "        spread = calculate_spread(orderbook, exchange)\n",
    "        depth_val_50_USD = depth_val_50 * prices.loc[prices['exchange'] == exchange, 'price'].item()\n",
    "        depth_val_100_USD = depth_val_100 * prices.loc[prices['exchange'] == exchange, 'price'].item()\n",
    "        depth_val_150_USD = depth_val_150 * prices.loc[prices['exchange'] == exchange, 'price'].item()\n",
    "        depth_val_200_USD = depth_val_200 * prices.loc[prices['exchange'] == exchange, 'price'].item()\n",
    "        row = [exchange, prices.loc[prices['exchange'] == exchange, 'price'].item(), spread, depth_val_50, depth_val_50_USD, depth_val_100, depth_val_100_USD, depth_val_150, depth_val_150_USD, depth_val_200, depth_val_200_USD, cur_time] \n",
    "        depth_db.loc[len(depth_db)] = row\n",
    "\n",
    "def check_dbstatus():\n",
    "    if con.total_changes == 0:\n",
    "        return(print(\"DB connection established\"))\n",
    "    else:\n",
    "        return(print(\"failed to establish connection to database\"))\n",
    "\n"
   ]
  },
  {
   "cell_type": "code",
   "execution_count": 3,
   "metadata": {},
   "outputs": [
    {
     "name": "stdout",
     "output_type": "stream",
     "text": [
      "Requesting 2 exchange(s) for job: orderbook.                                    \n",
      "Requesting 2 exchange(s) for job: tickers.\n",
      "Requesting data... 50.00 % /                                                    Pair-ID 253 - Coinbase: 18323 tuple(s)\n",
      "Requesting data... 50.00 % - Pair-ID 661 - Ftx: 100 tuple(s)\n",
      "Terminating.\n",
      "Pair-ID 253 - Coinbase: 1000 tuple(s)                                           \n",
      "Pair-ID 661 - Ftx: 100 tuple(s)\n",
      "Terminating.\n",
      "DB connection established\n"
     ]
    }
   ],
   "source": [
    "#fetch data from exchanges\n",
    "#fetch data from exchanges\n",
    "runner.run('amkt.yaml')\n",
    "# Read sqlite query results into a pandas DataFrame\n",
    "\n",
    "con = sqlite3.connect(\"amkt_data.db\")\n",
    "\n",
    "check_dbstatus()\n",
    "\n",
    "orderbook = pd.read_sql_query('SELECT * FROM order_books_view;', con)\n",
    "prices = pd.read_sql_query('SELECT exchange, MAX(price) AS price FROM trades_view GROUP BY exchange;', con)\n",
    "# Verify that result of SQL query is stored in the dataframe\n",
    "#get the time of the snapshot\n",
    "cur_time = datetime.datetime.now() \n",
    "fetch_data()\n",
    "\n",
    "con.close()"
   ]
  },
  {
   "cell_type": "code",
   "execution_count": 4,
   "metadata": {},
   "outputs": [
    {
     "data": {
      "text/html": [
       "<div>\n",
       "<style scoped>\n",
       "    .dataframe tbody tr th:only-of-type {\n",
       "        vertical-align: middle;\n",
       "    }\n",
       "\n",
       "    .dataframe tbody tr th {\n",
       "        vertical-align: top;\n",
       "    }\n",
       "\n",
       "    .dataframe thead th {\n",
       "        text-align: right;\n",
       "    }\n",
       "</style>\n",
       "<table border=\"1\" class=\"dataframe\">\n",
       "  <thead>\n",
       "    <tr style=\"text-align: right;\">\n",
       "      <th></th>\n",
       "      <th>exchange</th>\n",
       "      <th>mid price</th>\n",
       "      <th>spread</th>\n",
       "      <th>depth 50 bps</th>\n",
       "      <th>depth 50 USD</th>\n",
       "      <th>depth 100 bps</th>\n",
       "      <th>depth 100 USD</th>\n",
       "      <th>depth 150 bps</th>\n",
       "      <th>depth 150 USD</th>\n",
       "      <th>depth 200 bps</th>\n",
       "      <th>depth 200 USD</th>\n",
       "      <th>time</th>\n",
       "    </tr>\n",
       "  </thead>\n",
       "  <tbody>\n",
       "    <tr>\n",
       "      <th>0</th>\n",
       "      <td>COINBASE</td>\n",
       "      <td>1523.49</td>\n",
       "      <td>109.32</td>\n",
       "      <td>162.31863</td>\n",
       "      <td>247290.810175</td>\n",
       "      <td>256.538729</td>\n",
       "      <td>390834.188132</td>\n",
       "      <td>398.588297</td>\n",
       "      <td>607245.284187</td>\n",
       "      <td>426.598729</td>\n",
       "      <td>649918.897212</td>\n",
       "      <td>2022-07-26 09:57:34.778729</td>\n",
       "    </tr>\n",
       "    <tr>\n",
       "      <th>1</th>\n",
       "      <td>FTX</td>\n",
       "      <td>1523.30</td>\n",
       "      <td>109.10</td>\n",
       "      <td>162.26930</td>\n",
       "      <td>247184.824236</td>\n",
       "      <td>256.431311</td>\n",
       "      <td>390621.816346</td>\n",
       "      <td>398.440588</td>\n",
       "      <td>606944.547314</td>\n",
       "      <td>426.598729</td>\n",
       "      <td>649837.843454</td>\n",
       "      <td>2022-07-26 09:57:34.778729</td>\n",
       "    </tr>\n",
       "  </tbody>\n",
       "</table>\n",
       "</div>"
      ],
      "text/plain": [
       "   exchange  mid price  spread  depth 50 bps   depth 50 USD  depth 100 bps  depth 100 USD  depth 150 bps  depth 150 USD  depth 200 bps  depth 200 USD                       time\n",
       "0  COINBASE    1523.49  109.32     162.31863  247290.810175     256.538729  390834.188132     398.588297  607245.284187     426.598729  649918.897212 2022-07-26 09:57:34.778729\n",
       "1       FTX    1523.30  109.10     162.26930  247184.824236     256.431311  390621.816346     398.440588  606944.547314     426.598729  649837.843454 2022-07-26 09:57:34.778729"
      ]
     },
     "execution_count": 4,
     "metadata": {},
     "output_type": "execute_result"
    }
   ],
   "source": [
    "depth_db"
   ]
  }
 ],
 "metadata": {
  "kernelspec": {
   "display_name": "Python 3.9.13 64-bit",
   "language": "python",
   "name": "python3"
  },
  "language_info": {
   "codemirror_mode": {
    "name": "ipython",
    "version": 3
   },
   "file_extension": ".py",
   "mimetype": "text/x-python",
   "name": "python",
   "nbconvert_exporter": "python",
   "pygments_lexer": "ipython3",
   "version": "3.9.13"
  },
  "orig_nbformat": 4,
  "vscode": {
   "interpreter": {
    "hash": "b0fa6594d8f4cbf19f97940f81e996739fb7646882a419484c72d19e05852a7e"
   }
  }
 },
 "nbformat": 4,
 "nbformat_minor": 2
}
