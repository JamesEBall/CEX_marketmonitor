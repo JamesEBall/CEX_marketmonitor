{
 "cells": [
  {
   "cell_type": "code",
   "execution_count": 31,
   "metadata": {},
   "outputs": [],
   "source": [
    "from distutils.log import error\n",
    "from open_crypto import runner\n",
    "from matplotlib import pyplot as plt\n",
    "import sqlite3 \n",
    "import pandas as pd\n",
    "import datetime\n",
    "\n",
    "#params\n",
    "\n",
    "depths_ranges = [50,100,150,200]\n",
    "\n",
    "#create database\n",
    "depth_db = pd.DataFrame(columns=['exchange', 'mid price', 'spread', 'depth','depth units','depth units USD', 'time'])"
   ]
  },
  {
   "cell_type": "code",
   "execution_count": 33,
   "metadata": {},
   "outputs": [
    {
     "name": "stdout",
     "output_type": "stream",
     "text": [
      "Requesting 2 exchange(s) for job: orderbook.                                    \n",
      "Requesting 2 exchange(s) for job: tickers.\n",
      "Requesting data... 50.00 % /                                                    Pair-ID 336 - Coinbase: 17222 tuple(s)\n",
      "Pair-ID 661 - Ftx: 100 tuple(s)\n",
      "Terminating.\n",
      "Pair-ID 336 - Coinbase: 383 tuple(s)                                            \n",
      "Pair-ID 661 - Ftx: 100 tuple(s)\n",
      "Terminating.\n",
      "DB connection established\n"
     ]
    },
    {
     "ename": "NotImplementedError",
     "evalue": "iLocation based boolean indexing on an integer type is not available",
     "output_type": "error",
     "traceback": [
      "\u001b[0;31m---------------------------------------------------------------------------\u001b[0m",
      "\u001b[0;31mNotImplementedError\u001b[0m                       Traceback (most recent call last)",
      "\u001b[1;32m/Users/jamesball/Documents/GitHub/CEX_marketmonitor/plotter.ipynb Cell 2\u001b[0m in \u001b[0;36m<cell line: 54>\u001b[0;34m()\u001b[0m\n\u001b[1;32m     <a href='vscode-notebook-cell:/Users/jamesball/Documents/GitHub/CEX_marketmonitor/plotter.ipynb#ch0000002?line=55'>56</a>\u001b[0m df \u001b[39m=\u001b[39m pd\u001b[39m.\u001b[39mDataFrame()\n\u001b[1;32m     <a href='vscode-notebook-cell:/Users/jamesball/Documents/GitHub/CEX_marketmonitor/plotter.ipynb#ch0000002?line=56'>57</a>\u001b[0m depth_units \u001b[39m=\u001b[39m calculate_depth(orderbook, exchange, depth_val)\n\u001b[0;32m---> <a href='vscode-notebook-cell:/Users/jamesball/Documents/GitHub/CEX_marketmonitor/plotter.ipynb#ch0000002?line=57'>58</a>\u001b[0m spread \u001b[39m=\u001b[39m calculate_spread(orderbook, exchange)\n\u001b[1;32m     <a href='vscode-notebook-cell:/Users/jamesball/Documents/GitHub/CEX_marketmonitor/plotter.ipynb#ch0000002?line=58'>59</a>\u001b[0m depth_units_USD \u001b[39m=\u001b[39m depth_units \u001b[39m*\u001b[39m prices\u001b[39m.\u001b[39mloc[prices[\u001b[39m'\u001b[39m\u001b[39mexchange\u001b[39m\u001b[39m'\u001b[39m] \u001b[39m==\u001b[39m exchange, \u001b[39m'\u001b[39m\u001b[39mprice\u001b[39m\u001b[39m'\u001b[39m]\u001b[39m.\u001b[39mitem()\n\u001b[1;32m     <a href='vscode-notebook-cell:/Users/jamesball/Documents/GitHub/CEX_marketmonitor/plotter.ipynb#ch0000002?line=59'>60</a>\u001b[0m row \u001b[39m=\u001b[39m [exchange, prices\u001b[39m.\u001b[39mloc[prices[\u001b[39m'\u001b[39m\u001b[39mexchange\u001b[39m\u001b[39m'\u001b[39m] \u001b[39m==\u001b[39m exchange, \u001b[39m'\u001b[39m\u001b[39mprice\u001b[39m\u001b[39m'\u001b[39m]\u001b[39m.\u001b[39mitem(), spread, depth_val, depth_units, depth_units_USD, cur_time] \n",
      "\u001b[1;32m/Users/jamesball/Documents/GitHub/CEX_marketmonitor/plotter.ipynb Cell 2\u001b[0m in \u001b[0;36mcalculate_spread\u001b[0;34m(database, exchange)\u001b[0m\n\u001b[1;32m     <a href='vscode-notebook-cell:/Users/jamesball/Documents/GitHub/CEX_marketmonitor/plotter.ipynb#ch0000002?line=43'>44</a>\u001b[0m \u001b[39mdef\u001b[39;00m \u001b[39mcalculate_spread\u001b[39m(database, exchange):\n\u001b[1;32m     <a href='vscode-notebook-cell:/Users/jamesball/Documents/GitHub/CEX_marketmonitor/plotter.ipynb#ch0000002?line=44'>45</a>\u001b[0m     \u001b[39m#get midprice of the last range of trades\u001b[39;00m\n\u001b[0;32m---> <a href='vscode-notebook-cell:/Users/jamesball/Documents/GitHub/CEX_marketmonitor/plotter.ipynb#ch0000002?line=45'>46</a>\u001b[0m     bidmaxprice \u001b[39m=\u001b[39m orderbook\u001b[39m.\u001b[39;49miloc[database[\u001b[39m'\u001b[39;49m\u001b[39mexchange\u001b[39;49m\u001b[39m'\u001b[39;49m] \u001b[39m==\u001b[39;49m exchange, database[\u001b[39m'\u001b[39;49m\u001b[39mbids_price\u001b[39;49m\u001b[39m'\u001b[39;49m]\u001b[39m.\u001b[39;49mmin()]\n\u001b[1;32m     <a href='vscode-notebook-cell:/Users/jamesball/Documents/GitHub/CEX_marketmonitor/plotter.ipynb#ch0000002?line=46'>47</a>\u001b[0m     askminprice \u001b[39m=\u001b[39m orderbook\u001b[39m.\u001b[39miloc[database[\u001b[39m'\u001b[39m\u001b[39mexchange\u001b[39m\u001b[39m'\u001b[39m] \u001b[39m==\u001b[39m exchange, database[\u001b[39m'\u001b[39m\u001b[39masks_price\u001b[39m\u001b[39m'\u001b[39m]\u001b[39m.\u001b[39mmax()]\n\u001b[1;32m     <a href='vscode-notebook-cell:/Users/jamesball/Documents/GitHub/CEX_marketmonitor/plotter.ipynb#ch0000002?line=48'>49</a>\u001b[0m     \u001b[39m#calculate spread\u001b[39;00m\n",
      "File \u001b[0;32m/opt/homebrew/lib/python3.9/site-packages/pandas/core/indexing.py:961\u001b[0m, in \u001b[0;36m_LocationIndexer.__getitem__\u001b[0;34m(self, key)\u001b[0m\n\u001b[1;32m    959\u001b[0m     \u001b[39mif\u001b[39;00m \u001b[39mself\u001b[39m\u001b[39m.\u001b[39m_is_scalar_access(key):\n\u001b[1;32m    960\u001b[0m         \u001b[39mreturn\u001b[39;00m \u001b[39mself\u001b[39m\u001b[39m.\u001b[39mobj\u001b[39m.\u001b[39m_get_value(\u001b[39m*\u001b[39mkey, takeable\u001b[39m=\u001b[39m\u001b[39mself\u001b[39m\u001b[39m.\u001b[39m_takeable)\n\u001b[0;32m--> 961\u001b[0m     \u001b[39mreturn\u001b[39;00m \u001b[39mself\u001b[39;49m\u001b[39m.\u001b[39;49m_getitem_tuple(key)\n\u001b[1;32m    962\u001b[0m \u001b[39melse\u001b[39;00m:\n\u001b[1;32m    963\u001b[0m     \u001b[39m# we by definition only have the 0th axis\u001b[39;00m\n\u001b[1;32m    964\u001b[0m     axis \u001b[39m=\u001b[39m \u001b[39mself\u001b[39m\u001b[39m.\u001b[39maxis \u001b[39mor\u001b[39;00m \u001b[39m0\u001b[39m\n",
      "File \u001b[0;32m/opt/homebrew/lib/python3.9/site-packages/pandas/core/indexing.py:1458\u001b[0m, in \u001b[0;36m_iLocIndexer._getitem_tuple\u001b[0;34m(self, tup)\u001b[0m\n\u001b[1;32m   1456\u001b[0m \u001b[39mdef\u001b[39;00m \u001b[39m_getitem_tuple\u001b[39m(\u001b[39mself\u001b[39m, tup: \u001b[39mtuple\u001b[39m):\n\u001b[0;32m-> 1458\u001b[0m     tup \u001b[39m=\u001b[39m \u001b[39mself\u001b[39;49m\u001b[39m.\u001b[39;49m_validate_tuple_indexer(tup)\n\u001b[1;32m   1459\u001b[0m     \u001b[39mwith\u001b[39;00m suppress(IndexingError):\n\u001b[1;32m   1460\u001b[0m         \u001b[39mreturn\u001b[39;00m \u001b[39mself\u001b[39m\u001b[39m.\u001b[39m_getitem_lowerdim(tup)\n",
      "File \u001b[0;32m/opt/homebrew/lib/python3.9/site-packages/pandas/core/indexing.py:769\u001b[0m, in \u001b[0;36m_LocationIndexer._validate_tuple_indexer\u001b[0;34m(self, key)\u001b[0m\n\u001b[1;32m    767\u001b[0m \u001b[39mfor\u001b[39;00m i, k \u001b[39min\u001b[39;00m \u001b[39menumerate\u001b[39m(key):\n\u001b[1;32m    768\u001b[0m     \u001b[39mtry\u001b[39;00m:\n\u001b[0;32m--> 769\u001b[0m         \u001b[39mself\u001b[39;49m\u001b[39m.\u001b[39;49m_validate_key(k, i)\n\u001b[1;32m    770\u001b[0m     \u001b[39mexcept\u001b[39;00m \u001b[39mValueError\u001b[39;00m \u001b[39mas\u001b[39;00m err:\n\u001b[1;32m    771\u001b[0m         \u001b[39mraise\u001b[39;00m \u001b[39mValueError\u001b[39;00m(\n\u001b[1;32m    772\u001b[0m             \u001b[39m\"\u001b[39m\u001b[39mLocation based indexing can only have \u001b[39m\u001b[39m\"\u001b[39m\n\u001b[1;32m    773\u001b[0m             \u001b[39mf\u001b[39m\u001b[39m\"\u001b[39m\u001b[39m[\u001b[39m\u001b[39m{\u001b[39;00m\u001b[39mself\u001b[39m\u001b[39m.\u001b[39m_valid_types\u001b[39m}\u001b[39;00m\u001b[39m] types\u001b[39m\u001b[39m\"\u001b[39m\n\u001b[1;32m    774\u001b[0m         ) \u001b[39mfrom\u001b[39;00m \u001b[39merr\u001b[39;00m\n",
      "File \u001b[0;32m/opt/homebrew/lib/python3.9/site-packages/pandas/core/indexing.py:1347\u001b[0m, in \u001b[0;36m_iLocIndexer._validate_key\u001b[0;34m(self, key, axis)\u001b[0m\n\u001b[1;32m   1345\u001b[0m \u001b[39mif\u001b[39;00m \u001b[39mhasattr\u001b[39m(key, \u001b[39m\"\u001b[39m\u001b[39mindex\u001b[39m\u001b[39m\"\u001b[39m) \u001b[39mand\u001b[39;00m \u001b[39misinstance\u001b[39m(key\u001b[39m.\u001b[39mindex, Index):\n\u001b[1;32m   1346\u001b[0m     \u001b[39mif\u001b[39;00m key\u001b[39m.\u001b[39mindex\u001b[39m.\u001b[39minferred_type \u001b[39m==\u001b[39m \u001b[39m\"\u001b[39m\u001b[39minteger\u001b[39m\u001b[39m\"\u001b[39m:\n\u001b[0;32m-> 1347\u001b[0m         \u001b[39mraise\u001b[39;00m \u001b[39mNotImplementedError\u001b[39;00m(\n\u001b[1;32m   1348\u001b[0m             \u001b[39m\"\u001b[39m\u001b[39miLocation based boolean \u001b[39m\u001b[39m\"\u001b[39m\n\u001b[1;32m   1349\u001b[0m             \u001b[39m\"\u001b[39m\u001b[39mindexing on an integer type \u001b[39m\u001b[39m\"\u001b[39m\n\u001b[1;32m   1350\u001b[0m             \u001b[39m\"\u001b[39m\u001b[39mis not available\u001b[39m\u001b[39m\"\u001b[39m\n\u001b[1;32m   1351\u001b[0m         )\n\u001b[1;32m   1352\u001b[0m     \u001b[39mraise\u001b[39;00m \u001b[39mValueError\u001b[39;00m(\n\u001b[1;32m   1353\u001b[0m         \u001b[39m\"\u001b[39m\u001b[39miLocation based boolean indexing cannot use \u001b[39m\u001b[39m\"\u001b[39m\n\u001b[1;32m   1354\u001b[0m         \u001b[39m\"\u001b[39m\u001b[39man indexable as a mask\u001b[39m\u001b[39m\"\u001b[39m\n\u001b[1;32m   1355\u001b[0m     )\n\u001b[1;32m   1356\u001b[0m \u001b[39mreturn\u001b[39;00m\n",
      "\u001b[0;31mNotImplementedError\u001b[0m: iLocation based boolean indexing on an integer type is not available"
     ]
    }
   ],
   "source": [
    "#fetch data from exchanges\n",
    "def check_dbstatus():\n",
    "    if con.total_changes == 0:\n",
    "        return(print(\"DB connection established\"))\n",
    "    else:\n",
    "        return(print(\"failed to establish connection to database\"))\n",
    "\n",
    "#fetch data from exchanges\n",
    "runner.run('amkt.yaml')\n",
    "# Read sqlite query results into a pandas DataFrame\n",
    "\n",
    "con = sqlite3.connect(\"amkt_data.db\")\n",
    "\n",
    "check_dbstatus()\n",
    "\n",
    "orderbook = pd.read_sql_query('SELECT * FROM order_books_view;', con)\n",
    "prices = pd.read_sql_query('SELECT exchange, MAX(price) AS price FROM trades_view GROUP BY exchange;', con)\n",
    "# Verify that result of SQL query is stored in the dataframe\n",
    "\n",
    "#get the time of the snapshot\n",
    "cur_time = datetime.datetime.now() \n",
    "\n",
    "con.close()\n",
    "\n",
    "def calculate_depth(database, exchange, range): #depths are calculated in BPS\n",
    "    range = range / 100 #convert to kBPS (1000BPS = 1KBPS)\n",
    "    #get midprice of the last range of trades\n",
    "    price = prices.loc[prices['exchange'] == exchange, 'price'].item()\n",
    "\n",
    "    #calculate depth boundaries\n",
    "    depth_asks = price * (1 + range)\n",
    "    depth_bids = price - (price * range)\n",
    "\n",
    "    #get trades within the depth boundaries\n",
    "    trades = database.loc[(database['bids_price'] > depth_bids) & (database['asks_price'] < depth_asks)]\n",
    "    trades = trades.assign(**{'price': trades['bids_price'].fillna(trades['asks_price'])})\n",
    "    \n",
    "\n",
    "    #calculate depth\n",
    "    depth = trades['price'].std()\n",
    "\n",
    "    return depth\n",
    "\n",
    "def calculate_spread(database, exchange):\n",
    "    #get midprice of the last range of trades\n",
    "    bidmaxprice = orderbook.loc[database['exchange'] == exchange, database['bids_price'].min()]\n",
    "    askminprice = orderbook.loc[database['exchange'] == exchange, database['asks_price'].max()]\n",
    "\n",
    "    #calculate spread\n",
    "    spread = bidmaxprice - askminprice\n",
    "\n",
    "    return spread\n",
    "\n",
    "for exchange in orderbook['exchange'].unique():\n",
    "    for depth_val in depths_ranges:\n",
    "        df = pd.DataFrame()\n",
    "        depth_units = calculate_depth(orderbook, exchange, depth_val)\n",
    "        spread = calculate_spread(orderbook, exchange)\n",
    "        depth_units_USD = depth_units * prices.loc[prices['exchange'] == exchange, 'price'].item()\n",
    "        row = [exchange, prices.loc[prices['exchange'] == exchange, 'price'].item(), spread, depth_val, depth_units, depth_units_USD, cur_time] \n",
    "        depth_db.loc[len(depth_db)] = row"
   ]
  },
  {
   "cell_type": "code",
   "execution_count": null,
   "metadata": {},
   "outputs": [
    {
     "data": {
      "text/html": [
       "<div>\n",
       "<style scoped>\n",
       "    .dataframe tbody tr th:only-of-type {\n",
       "        vertical-align: middle;\n",
       "    }\n",
       "\n",
       "    .dataframe tbody tr th {\n",
       "        vertical-align: top;\n",
       "    }\n",
       "\n",
       "    .dataframe thead th {\n",
       "        text-align: right;\n",
       "    }\n",
       "</style>\n",
       "<table border=\"1\" class=\"dataframe\">\n",
       "  <thead>\n",
       "    <tr style=\"text-align: right;\">\n",
       "      <th></th>\n",
       "      <th>exchange</th>\n",
       "      <th>mid price</th>\n",
       "      <th>spread</th>\n",
       "      <th>depth</th>\n",
       "      <th>depth units</th>\n",
       "      <th>depth units USD</th>\n",
       "      <th>time</th>\n",
       "    </tr>\n",
       "  </thead>\n",
       "  <tbody>\n",
       "  </tbody>\n",
       "</table>\n",
       "</div>"
      ],
      "text/plain": [
       "Empty DataFrame\n",
       "Columns: [exchange, mid price, spread, depth, depth units, depth units USD, time]\n",
       "Index: []"
      ]
     },
     "execution_count": 30,
     "metadata": {},
     "output_type": "execute_result"
    }
   ],
   "source": [
    "depth_db"
   ]
  }
 ],
 "metadata": {
  "kernelspec": {
   "display_name": "Python 3.9.13 64-bit",
   "language": "python",
   "name": "python3"
  },
  "language_info": {
   "codemirror_mode": {
    "name": "ipython",
    "version": 3
   },
   "file_extension": ".py",
   "mimetype": "text/x-python",
   "name": "python",
   "nbconvert_exporter": "python",
   "pygments_lexer": "ipython3",
   "version": "3.9.13"
  },
  "orig_nbformat": 4,
  "vscode": {
   "interpreter": {
    "hash": "b0fa6594d8f4cbf19f97940f81e996739fb7646882a419484c72d19e05852a7e"
   }
  }
 },
 "nbformat": 4,
 "nbformat_minor": 2
}
